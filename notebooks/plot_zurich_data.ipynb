{
 "cells": [
  {
   "cell_type": "code",
   "execution_count": 1,
   "metadata": {},
   "outputs": [],
   "source": [
    "import scipy.io\n",
    "import numpy as np\n",
    "import matplotlib.pyplot as plt\n",
    "import pandas as pd\n",
    "import seaborn as sns\n",
    "import ddm\n",
    "from itertools import product\n",
    "from IPython.display import display\n",
    "from copy import copy\n",
    "from itertools import product\n",
    "import matplotlib.gridspec as gridspec"
   ]
  },
  {
   "cell_type": "markdown",
   "metadata": {},
   "source": [
    "## Load Data"
   ]
  },
  {
   "cell_type": "code",
   "execution_count": 2,
   "metadata": {
    "scrolled": false
   },
   "outputs": [
    {
     "ename": "FileNotFoundError",
     "evalue": "[Errno 2] No such file or directory: 'allData.txt'",
     "output_type": "error",
     "traceback": [
      "\u001b[1;31m---------------------------------------------------------------------------\u001b[0m",
      "\u001b[1;31mFileNotFoundError\u001b[0m                         Traceback (most recent call last)",
      "\u001b[1;32m<ipython-input-2-43360bd90797>\u001b[0m in \u001b[0;36m<module>\u001b[1;34m\u001b[0m\n\u001b[0;32m      1\u001b[0m \u001b[0mcolumns\u001b[0m \u001b[1;33m=\u001b[0m\u001b[1;33m[\u001b[0m\u001b[1;34m'LAB'\u001b[0m\u001b[1;33m,\u001b[0m \u001b[1;34m'Noise Color'\u001b[0m\u001b[1;33m,\u001b[0m \u001b[1;34m'Trial'\u001b[0m\u001b[1;33m,\u001b[0m \u001b[1;34m'Noise Trial'\u001b[0m\u001b[1;33m,\u001b[0m \u001b[1;34m'Session'\u001b[0m\u001b[1;33m,\u001b[0m \u001b[1;34m'Coherence'\u001b[0m\u001b[1;33m,\u001b[0m \u001b[1;34m'Correct Response'\u001b[0m\u001b[1;33m,\u001b[0m \u001b[1;34m'Reaction Time'\u001b[0m\u001b[1;33m]\u001b[0m\u001b[1;33m\u001b[0m\u001b[1;33m\u001b[0m\u001b[0m\n\u001b[1;32m----> 2\u001b[1;33m \u001b[0mdata\u001b[0m \u001b[1;33m=\u001b[0m \u001b[0mpd\u001b[0m\u001b[1;33m.\u001b[0m\u001b[0mread_csv\u001b[0m\u001b[1;33m(\u001b[0m\u001b[1;34m'allData.txt'\u001b[0m\u001b[1;33m,\u001b[0m \u001b[0mheader\u001b[0m \u001b[1;33m=\u001b[0m \u001b[1;32mNone\u001b[0m\u001b[1;33m,\u001b[0m \u001b[0mnames\u001b[0m\u001b[1;33m=\u001b[0m\u001b[0mcolumns\u001b[0m\u001b[1;33m)\u001b[0m\u001b[1;33m\u001b[0m\u001b[1;33m\u001b[0m\u001b[0m\n\u001b[0m\u001b[0;32m      3\u001b[0m \u001b[1;33m\u001b[0m\u001b[0m\n\u001b[0;32m      4\u001b[0m \u001b[1;31m# Split LAB into Date and Lab Number\u001b[0m\u001b[1;33m\u001b[0m\u001b[1;33m\u001b[0m\u001b[1;33m\u001b[0m\u001b[0m\n\u001b[0;32m      5\u001b[0m \u001b[0mdata\u001b[0m\u001b[1;33m[\u001b[0m\u001b[1;34m'Date'\u001b[0m\u001b[1;33m]\u001b[0m \u001b[1;33m=\u001b[0m \u001b[1;33m[\u001b[0m\u001b[0msub\u001b[0m\u001b[1;33m.\u001b[0m\u001b[0msplit\u001b[0m\u001b[1;33m(\u001b[0m\u001b[1;34m'_'\u001b[0m\u001b[1;33m)\u001b[0m\u001b[1;33m[\u001b[0m\u001b[1;36m3\u001b[0m\u001b[1;33m]\u001b[0m \u001b[1;32mfor\u001b[0m \u001b[0msub\u001b[0m \u001b[1;32min\u001b[0m \u001b[0mdata\u001b[0m\u001b[1;33m[\u001b[0m\u001b[1;34m'LAB'\u001b[0m\u001b[1;33m]\u001b[0m\u001b[1;33m]\u001b[0m\u001b[1;33m\u001b[0m\u001b[1;33m\u001b[0m\u001b[0m\n",
      "\u001b[1;32m~\\.conda\\envs\\ddm\\lib\\site-packages\\pandas\\io\\parsers.py\u001b[0m in \u001b[0;36mread_csv\u001b[1;34m(filepath_or_buffer, sep, delimiter, header, names, index_col, usecols, squeeze, prefix, mangle_dupe_cols, dtype, engine, converters, true_values, false_values, skipinitialspace, skiprows, skipfooter, nrows, na_values, keep_default_na, na_filter, verbose, skip_blank_lines, parse_dates, infer_datetime_format, keep_date_col, date_parser, dayfirst, cache_dates, iterator, chunksize, compression, thousands, decimal, lineterminator, quotechar, quoting, doublequote, escapechar, comment, encoding, dialect, error_bad_lines, warn_bad_lines, delim_whitespace, low_memory, memory_map, float_precision)\u001b[0m\n\u001b[0;32m    684\u001b[0m     )\n\u001b[0;32m    685\u001b[0m \u001b[1;33m\u001b[0m\u001b[0m\n\u001b[1;32m--> 686\u001b[1;33m     \u001b[1;32mreturn\u001b[0m \u001b[0m_read\u001b[0m\u001b[1;33m(\u001b[0m\u001b[0mfilepath_or_buffer\u001b[0m\u001b[1;33m,\u001b[0m \u001b[0mkwds\u001b[0m\u001b[1;33m)\u001b[0m\u001b[1;33m\u001b[0m\u001b[1;33m\u001b[0m\u001b[0m\n\u001b[0m\u001b[0;32m    687\u001b[0m \u001b[1;33m\u001b[0m\u001b[0m\n\u001b[0;32m    688\u001b[0m \u001b[1;33m\u001b[0m\u001b[0m\n",
      "\u001b[1;32m~\\.conda\\envs\\ddm\\lib\\site-packages\\pandas\\io\\parsers.py\u001b[0m in \u001b[0;36m_read\u001b[1;34m(filepath_or_buffer, kwds)\u001b[0m\n\u001b[0;32m    450\u001b[0m \u001b[1;33m\u001b[0m\u001b[0m\n\u001b[0;32m    451\u001b[0m     \u001b[1;31m# Create the parser.\u001b[0m\u001b[1;33m\u001b[0m\u001b[1;33m\u001b[0m\u001b[1;33m\u001b[0m\u001b[0m\n\u001b[1;32m--> 452\u001b[1;33m     \u001b[0mparser\u001b[0m \u001b[1;33m=\u001b[0m \u001b[0mTextFileReader\u001b[0m\u001b[1;33m(\u001b[0m\u001b[0mfp_or_buf\u001b[0m\u001b[1;33m,\u001b[0m \u001b[1;33m**\u001b[0m\u001b[0mkwds\u001b[0m\u001b[1;33m)\u001b[0m\u001b[1;33m\u001b[0m\u001b[1;33m\u001b[0m\u001b[0m\n\u001b[0m\u001b[0;32m    453\u001b[0m \u001b[1;33m\u001b[0m\u001b[0m\n\u001b[0;32m    454\u001b[0m     \u001b[1;32mif\u001b[0m \u001b[0mchunksize\u001b[0m \u001b[1;32mor\u001b[0m \u001b[0miterator\u001b[0m\u001b[1;33m:\u001b[0m\u001b[1;33m\u001b[0m\u001b[1;33m\u001b[0m\u001b[0m\n",
      "\u001b[1;32m~\\.conda\\envs\\ddm\\lib\\site-packages\\pandas\\io\\parsers.py\u001b[0m in \u001b[0;36m__init__\u001b[1;34m(self, f, engine, **kwds)\u001b[0m\n\u001b[0;32m    944\u001b[0m             \u001b[0mself\u001b[0m\u001b[1;33m.\u001b[0m\u001b[0moptions\u001b[0m\u001b[1;33m[\u001b[0m\u001b[1;34m\"has_index_names\"\u001b[0m\u001b[1;33m]\u001b[0m \u001b[1;33m=\u001b[0m \u001b[0mkwds\u001b[0m\u001b[1;33m[\u001b[0m\u001b[1;34m\"has_index_names\"\u001b[0m\u001b[1;33m]\u001b[0m\u001b[1;33m\u001b[0m\u001b[1;33m\u001b[0m\u001b[0m\n\u001b[0;32m    945\u001b[0m \u001b[1;33m\u001b[0m\u001b[0m\n\u001b[1;32m--> 946\u001b[1;33m         \u001b[0mself\u001b[0m\u001b[1;33m.\u001b[0m\u001b[0m_make_engine\u001b[0m\u001b[1;33m(\u001b[0m\u001b[0mself\u001b[0m\u001b[1;33m.\u001b[0m\u001b[0mengine\u001b[0m\u001b[1;33m)\u001b[0m\u001b[1;33m\u001b[0m\u001b[1;33m\u001b[0m\u001b[0m\n\u001b[0m\u001b[0;32m    947\u001b[0m \u001b[1;33m\u001b[0m\u001b[0m\n\u001b[0;32m    948\u001b[0m     \u001b[1;32mdef\u001b[0m \u001b[0mclose\u001b[0m\u001b[1;33m(\u001b[0m\u001b[0mself\u001b[0m\u001b[1;33m)\u001b[0m\u001b[1;33m:\u001b[0m\u001b[1;33m\u001b[0m\u001b[1;33m\u001b[0m\u001b[0m\n",
      "\u001b[1;32m~\\.conda\\envs\\ddm\\lib\\site-packages\\pandas\\io\\parsers.py\u001b[0m in \u001b[0;36m_make_engine\u001b[1;34m(self, engine)\u001b[0m\n\u001b[0;32m   1176\u001b[0m     \u001b[1;32mdef\u001b[0m \u001b[0m_make_engine\u001b[0m\u001b[1;33m(\u001b[0m\u001b[0mself\u001b[0m\u001b[1;33m,\u001b[0m \u001b[0mengine\u001b[0m\u001b[1;33m=\u001b[0m\u001b[1;34m\"c\"\u001b[0m\u001b[1;33m)\u001b[0m\u001b[1;33m:\u001b[0m\u001b[1;33m\u001b[0m\u001b[1;33m\u001b[0m\u001b[0m\n\u001b[0;32m   1177\u001b[0m         \u001b[1;32mif\u001b[0m \u001b[0mengine\u001b[0m \u001b[1;33m==\u001b[0m \u001b[1;34m\"c\"\u001b[0m\u001b[1;33m:\u001b[0m\u001b[1;33m\u001b[0m\u001b[1;33m\u001b[0m\u001b[0m\n\u001b[1;32m-> 1178\u001b[1;33m             \u001b[0mself\u001b[0m\u001b[1;33m.\u001b[0m\u001b[0m_engine\u001b[0m \u001b[1;33m=\u001b[0m \u001b[0mCParserWrapper\u001b[0m\u001b[1;33m(\u001b[0m\u001b[0mself\u001b[0m\u001b[1;33m.\u001b[0m\u001b[0mf\u001b[0m\u001b[1;33m,\u001b[0m \u001b[1;33m**\u001b[0m\u001b[0mself\u001b[0m\u001b[1;33m.\u001b[0m\u001b[0moptions\u001b[0m\u001b[1;33m)\u001b[0m\u001b[1;33m\u001b[0m\u001b[1;33m\u001b[0m\u001b[0m\n\u001b[0m\u001b[0;32m   1179\u001b[0m         \u001b[1;32melse\u001b[0m\u001b[1;33m:\u001b[0m\u001b[1;33m\u001b[0m\u001b[1;33m\u001b[0m\u001b[0m\n\u001b[0;32m   1180\u001b[0m             \u001b[1;32mif\u001b[0m \u001b[0mengine\u001b[0m \u001b[1;33m==\u001b[0m \u001b[1;34m\"python\"\u001b[0m\u001b[1;33m:\u001b[0m\u001b[1;33m\u001b[0m\u001b[1;33m\u001b[0m\u001b[0m\n",
      "\u001b[1;32m~\\.conda\\envs\\ddm\\lib\\site-packages\\pandas\\io\\parsers.py\u001b[0m in \u001b[0;36m__init__\u001b[1;34m(self, src, **kwds)\u001b[0m\n\u001b[0;32m   2006\u001b[0m         \u001b[0mkwds\u001b[0m\u001b[1;33m[\u001b[0m\u001b[1;34m\"usecols\"\u001b[0m\u001b[1;33m]\u001b[0m \u001b[1;33m=\u001b[0m \u001b[0mself\u001b[0m\u001b[1;33m.\u001b[0m\u001b[0musecols\u001b[0m\u001b[1;33m\u001b[0m\u001b[1;33m\u001b[0m\u001b[0m\n\u001b[0;32m   2007\u001b[0m \u001b[1;33m\u001b[0m\u001b[0m\n\u001b[1;32m-> 2008\u001b[1;33m         \u001b[0mself\u001b[0m\u001b[1;33m.\u001b[0m\u001b[0m_reader\u001b[0m \u001b[1;33m=\u001b[0m \u001b[0mparsers\u001b[0m\u001b[1;33m.\u001b[0m\u001b[0mTextReader\u001b[0m\u001b[1;33m(\u001b[0m\u001b[0msrc\u001b[0m\u001b[1;33m,\u001b[0m \u001b[1;33m**\u001b[0m\u001b[0mkwds\u001b[0m\u001b[1;33m)\u001b[0m\u001b[1;33m\u001b[0m\u001b[1;33m\u001b[0m\u001b[0m\n\u001b[0m\u001b[0;32m   2009\u001b[0m         \u001b[0mself\u001b[0m\u001b[1;33m.\u001b[0m\u001b[0munnamed_cols\u001b[0m \u001b[1;33m=\u001b[0m \u001b[0mself\u001b[0m\u001b[1;33m.\u001b[0m\u001b[0m_reader\u001b[0m\u001b[1;33m.\u001b[0m\u001b[0munnamed_cols\u001b[0m\u001b[1;33m\u001b[0m\u001b[1;33m\u001b[0m\u001b[0m\n\u001b[0;32m   2010\u001b[0m \u001b[1;33m\u001b[0m\u001b[0m\n",
      "\u001b[1;32mpandas\\_libs\\parsers.pyx\u001b[0m in \u001b[0;36mpandas._libs.parsers.TextReader.__cinit__\u001b[1;34m()\u001b[0m\n",
      "\u001b[1;32mpandas\\_libs\\parsers.pyx\u001b[0m in \u001b[0;36mpandas._libs.parsers.TextReader._setup_parser_source\u001b[1;34m()\u001b[0m\n",
      "\u001b[1;31mFileNotFoundError\u001b[0m: [Errno 2] No such file or directory: 'allData.txt'"
     ]
    }
   ],
   "source": [
    "columns =['LAB', 'Noise Color', 'Trial', 'Noise Trial', 'Session', 'Coherence', 'Correct Response', 'Reaction Time']\n",
    "data = pd.read_csv('allData.txt', header = None, names=columns)\n",
    "\n",
    "# Split LAB into Date and Lab Number\n",
    "data['Date'] = [sub.split('_')[3] for sub in data['LAB']]\n",
    "data['LAB'] = [sub.split('_')[2][-6:] for sub in data['LAB']]\n",
    "\n",
    "# Select only Stimulation Trials\n",
    "data = data[(data['Noise Color']=='white') | (data['Noise Color']=='pink') | (data['Noise Color']=='blue')]\n",
    "\n",
    "# Get Subject IDs\n",
    "idswitches = [True]+[True if data.iloc[n, 0] != data.iloc[n-1,0] else False for n in range(1,len(data))]\n",
    "ids = [f'Sub{n:02d}' for n in np.cumsum(idswitches)]\n",
    "data.insert(loc=0, column='ID', value=ids)\n",
    "data = data.drop(columns='LAB')\n",
    "\n",
    "# Get of Subject Numbers\n",
    "SubjectList = np.unique(data['ID'])\n",
    "\n",
    "# Clean from Invalid Reaction Times \n",
    "data=data.loc[~data['Reaction Time'].isnull() & data['Reaction Time']>0.1]\n",
    "\n",
    "# bin Coherence to Percentages\n",
    "data['Coherence'] = np.floor(data['Coherence']/10)\n",
    "data['Coherence'] /= 100"
   ]
  },
  {
   "cell_type": "markdown",
   "metadata": {},
   "source": [
    "## Plot Reaction Times and Coherence Differences over Trials\n",
    "### White Noise - Sub01"
   ]
  },
  {
   "cell_type": "code",
   "execution_count": null,
   "metadata": {},
   "outputs": [],
   "source": [
    "white = data[(data['Noise Color'] == 'white') & (data['ID']=='Sub01') & (data['Correct Response']==1)]\n",
    "rt = white['Reaction Time'].to_numpy()\n",
    "trials = np.arange(len(rt))\n",
    "\n",
    "diff_coh = np.diff(white['Coherence'], prepend=0)\n",
    "reset = diff_coh>=200\n",
    "reset_trials = trials[reset]\n",
    "min_reset_inter = 10\n",
    "false_reset = [n+1 for n, reset_diff in enumerate(np.diff(reset_trials)) if reset_diff <= min_reset_inter]\n",
    "reset_trials = np.delete(reset_trials, false_reset)\n",
    "\n",
    "fig, ax = plt.subplots(figsize=(16,8))\n",
    "ax.plot(diff_coh, alpha=0.8)\n",
    "for trial in reset_trials:\n",
    "    ax.text(s=str(trial), x=trial-5, y=410)\n",
    "\n",
    "# Plot Reaction Times\n",
    "ax2 = ax.twinx() \n",
    "ax2.plot(trials, rt, color='tab:orange', alpha=0.5, label = 'Reaction Time')\n",
    "ax2.legend(loc='lower left')\n",
    "fig.tight_layout()\n",
    "ax.set_title('Single Subject Reaction Times and Coherence Difference over Trials')"
   ]
  },
  {
   "cell_type": "markdown",
   "metadata": {},
   "source": [
    "## Test Threshold Detection\n",
    "Set WindowSize and Perf_Acc to vary the criteria of the Threshold"
   ]
  },
  {
   "cell_type": "code",
   "execution_count": null,
   "metadata": {
    "scrolled": false
   },
   "outputs": [],
   "source": [
    "windowsize = 4\n",
    "perf_acc = 3\n",
    "\n",
    "noisecolors=['white', 'blue', 'pink']\n",
    "plotcolors = ['white', 'tab:blue', 'tab:pink']\n",
    "threshold = []\n",
    "for color, sub in product(noisecolors, np.unique(data['ID'])):\n",
    "    color_df = data[(data['Noise Color'] == color) & (data['ID']==sub)]\n",
    "    \n",
    "    # Get Accuracy Dataframe\n",
    "    acc_dict = {'Coherence':[], 'Accuracy':[]}\n",
    "    for c in np.unique(color_df['Coherence']): \n",
    "        acc = np.mean(color_df.loc[color_df['Coherence']==c, 'Correct Response'])\n",
    "        acc_dict['Coherence'].append(c)\n",
    "        acc_dict['Accuracy'].append(acc)\n",
    "    acc_df = pd.DataFrame(acc_dict)\n",
    "\n",
    "    # Get Coherency Threshold \n",
    "    perf_idx = np.arange(len(acc_df))[acc_df['Accuracy']==1]\n",
    "    for idx in perf_idx:\n",
    "        window = acc_df.iloc[idx:idx+windowsize, 1]\n",
    "        if np.sum(window==1)>=perf_acc:\n",
    "            thresh_idx = idx-1\n",
    "            thresh = acc_df.iloc[thresh_idx,0]\n",
    "            break\n",
    "    threshold.append([sub, color, thresh])\n",
    "thresh_df = pd.DataFrame(threshold, columns=['ID', 'Color', 'Threshold'])"
   ]
  },
  {
   "cell_type": "markdown",
   "metadata": {},
   "source": [
    "### Plot Thresholds"
   ]
  },
  {
   "cell_type": "code",
   "execution_count": null,
   "metadata": {},
   "outputs": [],
   "source": [
    "sns.set_style('dark')\n",
    "# Plot Data and thresholds\n",
    "fig = plt.figure(figsize=(15,20))\n",
    "spec = gridspec.GridSpec(ncols=1, nrows=5, figure=fig)\n",
    "ax = [fig.add_subplot(spec[:2, 0]), fig.add_subplot(spec[2:, 0])]\n",
    "sns.set_style('darkgrid')\n",
    "\n",
    "sns.boxplot(data=thresh_df, x='Color', y='Threshold', ax=ax[0], palette=plotcolors, saturation=0.5)\n",
    "sns.stripplot(data=data, x='ID', y='Coherence', hue='Noise Color', alpha=0.5,\n",
    "              edgecolor='gray', linewidth=0.3, jitter=0.3, ax=ax[1], palette=plotcolors)\n",
    "\n",
    "for pcolor, ncolor in zip(plotcolors, noisecolors) :\n",
    "    df = thresh_df[thresh_df['Color']==ncolor]\n",
    "    previous_thresh = 0\n",
    "    for n, thresh in enumerate(df['Threshold']):\n",
    "        alpha = 1; \n",
    "        ax[1].hlines(thresh, xmin=n-0.5, xmax=n+0.5, zorder=3, linestyle='--', color=pcolor, alpha=alpha, linewidth=3.5)\n",
    "        # Connect thresholds\n",
    "        if n > 0:\n",
    "            ymin,ymax = sorted([previous_thresh, thresh])\n",
    "            ax[1].vlines(n-0.5, ymin, ymax, color=pcolor, alpha=alpha, linestyle='--', linewidth=3.5)\n",
    "        previous_thresh = thresh\n",
    "    ax[1].xaxis.grid(True)\n",
    "    ax[1].yaxis.grid(False)"
   ]
  },
  {
   "cell_type": "markdown",
   "metadata": {},
   "source": [
    "## Clean Data with Threshold\n",
    "1. Exclude Sub09\n",
    "2. Cut of Coherence Values above Threshold"
   ]
  },
  {
   "cell_type": "code",
   "execution_count": null,
   "metadata": {},
   "outputs": [],
   "source": [
    "data = data[data['ID']!='Sub09']\n",
    "for row in thresh_df.iterrows():\n",
    "    sub, color, thresh = row[1][:]\n",
    "    data = data.loc[~((data['ID']==sub) & (data['Noise Color']==color) & (data['Coherence']>thresh))]"
   ]
  },
  {
   "cell_type": "markdown",
   "metadata": {},
   "source": [
    "## Plot Cleaned Data\n",
    "## White Noise"
   ]
  },
  {
   "cell_type": "code",
   "execution_count": null,
   "metadata": {},
   "outputs": [],
   "source": [
    "sns.set_style('white')\n",
    "df = data[(data['Noise Color'] == 'white') & (data['Correct Response']==1)]\n",
    "fig, ax = plt.subplots(figsize=(12,8))\n",
    "sns.scatterplot(data=df, x='Coherence', y='Reaction Time', ax=ax)\n",
    "ax.set_title('Reaction Time vs. Motion Coherence - White Noise')"
   ]
  },
  {
   "cell_type": "markdown",
   "metadata": {},
   "source": [
    "## Plot all Noise Colors"
   ]
  },
  {
   "cell_type": "code",
   "execution_count": null,
   "metadata": {},
   "outputs": [],
   "source": [
    "# Set up plot\n",
    "sns.set_style('dark', {\"axes.facecolor\": \"gainsboro\"})\n",
    "noisecolors=['white', 'blue', 'pink']\n",
    "plotcolors = ['whitesmoke', 'tab:blue', 'tab:pink']\n",
    "fig, ax = plt.subplots(figsize=(12,8))\n",
    "for ncolor, pcolor in zip(noisecolors, plotcolors):\n",
    "    sns.lineplot(data=data[data['Noise Color']==ncolor], x='Coherence', y='Reaction Time', ax=ax, \n",
    "                 label=ncolor, color=pcolor)\n",
    "    sns.scatterplot(data=data[data['Noise Color']==ncolor], x='Coherence', y='Reaction Time', ax=ax, \n",
    "                 label=ncolor, color=pcolor, alpha=0.3)\n",
    "ax.set_title('Reaction Time vs. Coherence Level over Noise Colors')"
   ]
  },
  {
   "cell_type": "code",
   "execution_count": null,
   "metadata": {},
   "outputs": [],
   "source": [
    "data = pd.read_csv('CStimData.csv')\n",
    "data = data.rename(columns={'coherence':'Coherence', 'rxtime':'Reaction Time', 'condition':'Noise Color'})\n",
    "# Set up plot\n",
    "sns.set_style('dark', {\"axes.facecolor\": \"gainsboro\"})\n",
    "noisecolors=['white', 'blue', 'pink']\n",
    "plotcolors = ['whitesmoke', 'tab:blue', 'tab:pink']\n",
    "fig, ax = plt.subplots(figsize=(12,8))\n",
    "for ncolor, pcolor in zip(noisecolors, plotcolors):\n",
    "    sns.lineplot(data=data[data['Noise Color']==ncolor], x='Coherence', y='Reaction Time', ax=ax, \n",
    "                 label=ncolor, color=pcolor)\n",
    "    sns.scatterplot(data=data[data['Noise Color']==ncolor], x='Coherence', y='Reaction Time', ax=ax, \n",
    "                 label=ncolor, color=pcolor, alpha=0.3)\n",
    "ax.set_title('Reaction Time vs. Coherence Level over Noise Colors')"
   ]
  }
 ],
 "metadata": {
  "kernelspec": {
   "display_name": "Python 3",
   "language": "python",
   "name": "python3"
  },
  "language_info": {
   "codemirror_mode": {
    "name": "ipython",
    "version": 3
   },
   "file_extension": ".py",
   "mimetype": "text/x-python",
   "name": "python",
   "nbconvert_exporter": "python",
   "pygments_lexer": "ipython3",
   "version": "3.7.9"
  }
 },
 "nbformat": 4,
 "nbformat_minor": 4
}
