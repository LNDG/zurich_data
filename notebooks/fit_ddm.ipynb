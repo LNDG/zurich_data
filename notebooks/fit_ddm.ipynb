{
 "cells": [
  {
   "cell_type": "code",
   "execution_count": 1,
   "metadata": {},
   "outputs": [],
   "source": [
    "import scipy.io\n",
    "import numpy as np\n",
    "import matplotlib.pyplot as plt\n",
    "import pandas as pd\n",
    "import seaborn as sns\n",
    "import ddm.models\n",
    "from ddm import Sample\n",
    "from itertools import product\n",
    "from IPython.display import display\n",
    "from ddm import Model, Fittable\n",
    "from ddm.functions import fit_adjust_model, display_model\n",
    "from ddm.models import NoiseConstant, BoundConstant, OverlayChain, OverlayNonDecision, OverlayPoissonMixture\n",
    "import ddm.plot\n",
    "from copy import deepcopy\n",
    "import os"
   ]
  },
  {
   "cell_type": "markdown",
   "metadata": {},
   "source": [
    "## Load and Clean Data\n",
    "We exlcude\n",
    "1. Trials with coherence over threshold\n",
    "2. Trials with rt under 0.1\n",
    "3. Trials with invalid rt"
   ]
  },
  {
   "cell_type": "code",
   "execution_count": 2,
   "metadata": {},
   "outputs": [],
   "source": [
    "columns =['LAB', 'Noise Color', 'Trial', 'Noise Trial', 'Session', 'Coherence', 'Correct Response', 'Reaction Time']\n",
    "data = pd.read_csv('../data/allData.txt', header = None, names=columns)\n",
    "\n",
    "# Split LAB into Date and Lab Number\n",
    "data['Date'] = [sub.split('_')[3] for sub in data['LAB']]\n",
    "data['LAB'] = [sub.split('_')[2][-6:] for sub in data['LAB']]\n",
    "\n",
    "# Select only Stimulation Trials\n",
    "data = data[(data['Noise Color']=='white') | (data['Noise Color']=='pink') | (data['Noise Color']=='blue')]\n",
    "\n",
    "# Get Subject IDs\n",
    "idswitches = [True]+[True if data.iloc[n, 0] != data.iloc[n-1,0] else False for n in range(1,len(data))]\n",
    "ids = [f'Sub{n:02d}' for n in np.cumsum(idswitches)]\n",
    "data.insert(loc=0, column='ID', value=ids)\n",
    "data = data.drop(columns='LAB')\n",
    "\n",
    "# Get of Subject Numbers\n",
    "SubjectList = np.unique(data['ID'])\n",
    "\n",
    "# Clean from Invalid Reaction Times \n",
    "data=data.loc[~data['Reaction Time'].isnull() & data['Reaction Time']>0.1]\n",
    "\n",
    "# bin Coherence to Percentages\n",
    "data['Coherence'] = np.floor(data['Coherence']/10)\n",
    "data['Coherence'] /= 100\n",
    "\n",
    "data['Reaction Time'] = np.round(data['Reaction Time'],3)\n"
   ]
  },
  {
   "cell_type": "markdown",
   "metadata": {},
   "source": [
    "## Clean Data with Threshold\n",
    "### Get Thresholds"
   ]
  },
  {
   "cell_type": "code",
   "execution_count": 3,
   "metadata": {},
   "outputs": [],
   "source": [
    "windowsize = 4\n",
    "perf_acc = 3\n",
    "\n",
    "noisecolors=['white', 'blue', 'pink']\n",
    "plotcolors = ['white', 'tab:blue', 'tab:pink']\n",
    "threshold = []\n",
    "for color, sub in product(noisecolors, np.unique(data['ID'])):\n",
    "    color_df = data[(data['Noise Color'] == color) & (data['ID']==sub)]\n",
    "    \n",
    "    # Get Accuracy Dataframe\n",
    "    acc_dict = {'Coherence':[], 'Accuracy':[]}\n",
    "    for c in np.unique(color_df['Coherence']): \n",
    "        acc = np.mean(color_df.loc[color_df['Coherence']==c, 'Correct Response'])\n",
    "        acc_dict['Coherence'].append(c)\n",
    "        acc_dict['Accuracy'].append(acc)\n",
    "    acc_df = pd.DataFrame(acc_dict)\n",
    "\n",
    "    # Get Coherency Threshold \n",
    "    perf_idx = np.arange(len(acc_df))[acc_df['Accuracy']==1]\n",
    "    for idx in perf_idx:\n",
    "        window = acc_df.iloc[idx:idx+windowsize, 1]\n",
    "        if np.sum(window==1)>=perf_acc:\n",
    "            thresh_idx = idx-1\n",
    "            thresh = acc_df.iloc[thresh_idx,0]\n",
    "            break\n",
    "    threshold.append([sub, color, thresh])\n",
    "thresh_df = pd.DataFrame(threshold, columns=['ID', 'Color', 'Threshold'])"
   ]
  },
  {
   "cell_type": "markdown",
   "metadata": {},
   "source": [
    "## Clean Data"
   ]
  },
  {
   "cell_type": "code",
   "execution_count": 4,
   "metadata": {},
   "outputs": [],
   "source": [
    "data = data[data['ID']!='Sub09']\n",
    "for row in thresh_df.iterrows():\n",
    "    sub, color, thresh = row[1][:]\n",
    "    data = data.loc[~((data['ID']==sub) & (data['Noise Color']==color) & (data['Coherence']>thresh))]"
   ]
  },
  {
   "cell_type": "markdown",
   "metadata": {},
   "source": [
    "## Single Subject Example\n",
    "## Load Data into pyddm"
   ]
  },
  {
   "cell_type": "code",
   "execution_count": 5,
   "metadata": {
    "scrolled": false
   },
   "outputs": [],
   "source": [
    "# Subject Lab001 dfs with different Noise colors\n",
    "data = data.rename(columns={'Reaction Time':'rt', 'Correct Response':'correct', 'Coherence':'coherence', 'Noise Color':'noise_color'})\n",
    "\n",
    "white_df = data.loc[(data['noise_color']=='white')  & (data['ID']=='Sub01'), ['correct', 'rt', 'coherence']]\n",
    "white_sample = Sample.from_pandas_dataframe(white_df, rt_column_name=\"rt\", correct_column_name=\"correct\")\n",
    "\n",
    "blue_df = data.loc[(data['noise_color']=='blue')  & (data['ID']=='Sub01'), ['correct', 'rt', 'coherence']]\n",
    "blue_sample = Sample.from_pandas_dataframe(blue_df, rt_column_name=\"rt\", correct_column_name=\"correct\")\n",
    "\n",
    "pink_df = data.loc[(data['noise_color']=='pink')  & (data['ID']=='Sub01'), ['correct', 'rt', 'coherence']]\n",
    "pink_sample = Sample.from_pandas_dataframe(pink_df, rt_column_name=\"rt\", correct_column_name=\"correct\")\n"
   ]
  },
  {
   "cell_type": "markdown",
   "metadata": {},
   "source": [
    "## Plot Correct Response vs. Reaction Time - White Noise"
   ]
  },
  {
   "cell_type": "code",
   "execution_count": 6,
   "metadata": {},
   "outputs": [
    {
     "data": {
      "text/plain": [
       "Text(0.5, 1.0, 'Pink Noise - Correct Trials')"
      ]
     },
     "execution_count": 6,
     "metadata": {},
     "output_type": "execute_result"
    },
    {
     "data": {
      "image/png": "[encoded data removed]",
      "text/plain": [
       "<Figure size 1080x360 with 3 Axes>"
      ]
     },
     "metadata": {},
     "output_type": "display_data"
    }
   ],
   "source": [
    "sns.set_style('dark')\n",
    "fig, ax = plt.subplots(1,3, figsize=(15,5), sharey=True)\n",
    "correct_white = white_df[white_df['correct']==1]\n",
    "ax[0].hist(white_df.loc[white_df['correct']==1, 'rt'], bins=100, color='whitesmoke');\n",
    "ax[0].set_title('White Noise - Correct Trials')\n",
    "ax[1].hist(blue_df.loc[blue_df['correct']==1, 'rt'], bins=100, color='tab:blue');\n",
    "ax[1].set_title('Blue Noise - Correct Trials')\n",
    "ax[2].hist(pink_df.loc[pink_df['correct']==1, 'rt'], bins=100, color='tab:pink');\n",
    "ax[2].set_title('Pink Noise - Correct Trials')"
   ]
  },
  {
   "cell_type": "markdown",
   "metadata": {},
   "source": [
    "## Set up Drift Diffusion Model"
   ]
  },
  {
   "cell_type": "code",
   "execution_count": 7,
   "metadata": {},
   "outputs": [],
   "source": [
    "class DriftCoherence(ddm.models.Drift):\n",
    "    name = \"Drift depends linearly on coherence\"\n",
    "    # Parameter that should be included in the ddm\n",
    "    required_parameters = [\"driftcoherence\"] \n",
    "    # Task Parameter, i.e. coherence\n",
    "    required_conditions = [\"coherence\"] \n",
    "    \n",
    "    # Define the get_drift function\n",
    "    def get_drift(self, conditions, **kwargs):\n",
    "        return self.driftcoherence * conditions['coherence']\n",
    "\n",
    "# Set up Model with Drift depending on Coherence\n",
    "model = Model(name='Noise Model - Drift varies with coherence',\n",
    "             drift=DriftCoherence(driftcoherence=Fittable(minval=0, maxval=20)),\n",
    "             noise=NoiseConstant(noise=1),\n",
    "             bound=BoundConstant(B=Fittable(minval=.1, maxval=1.5)),\n",
    "             overlay=OverlayChain(overlays=[OverlayNonDecision(nondectime=Fittable(minval=0, maxval=.4)),\n",
    "                                            OverlayPoissonMixture(pmixturecoef=.02,\n",
    "                                                                  rate=1)]),\n",
    "            dx=.01, dt=.01, T_dur=2)"
   ]
  },
  {
   "cell_type": "markdown",
   "metadata": {},
   "source": [
    "## Fit Model"
   ]
  },
  {
   "cell_type": "code",
   "execution_count": 8,
   "metadata": {},
   "outputs": [
    {
     "name": "stdout",
     "output_type": "stream",
     "text": [
      "differential_evolution step 1: f(x)= 218.41\n",
      "differential_evolution step 2: f(x)= 218.41\n",
      "differential_evolution step 3: f(x)= 218.41\n",
      "differential_evolution step 4: f(x)= 217.163\n",
      "differential_evolution step 5: f(x)= 215.984\n",
      "differential_evolution step 6: f(x)= 215.984\n",
      "differential_evolution step 7: f(x)= 215.771\n",
      "differential_evolution step 8: f(x)= 215.764\n",
      "differential_evolution step 9: f(x)= 215.764\n",
      "Params [9.46620911 0.97342276 0.39693808] gave 215.75782735127962\n"
     ]
    }
   ],
   "source": [
    "fit_adjust_model(sample=white_sample, model=model, verbose=False)\n",
    "white_fit = deepcopy(model)\n",
    "#fit_model_blue = fit_adjust_model(sample=blue_sample, model=model, verbose=False)\n",
    "#blue_fit = deepcopy(model)\n",
    "#fit_model_pink = fit_adjust_model(sample=pink_sample, model=model, verbose=False)\n",
    "#pink_fit = deepcopy(model)"
   ]
  },
  {
   "cell_type": "markdown",
   "metadata": {},
   "source": [
    "## Plot Model Fits"
   ]
  },
  {
   "cell_type": "code",
   "execution_count": 9,
   "metadata": {
    "scrolled": false
   },
   "outputs": [
    {
     "name": "stdout",
     "output_type": "stream",
     "text": [
      "Model Noise Model - Drift varies with coherence information:\n",
      "Drift component DriftCoherence:\n",
      "    Drift depends linearly on coherence\n",
      "    Fitted parameters:\n",
      "    - driftcoherence: 9.466209\n",
      "Noise component NoiseConstant:\n",
      "    constant\n",
      "    Fixed parameters:\n",
      "    - noise: 1.000000\n",
      "Bound component BoundConstant:\n",
      "    constant\n",
      "    Fitted parameters:\n",
      "    - B: 0.973423\n",
      "IC component ICPointSourceCenter:\n",
      "    point_source_center\n",
      "    (No parameters)\n",
      "Overlay component OverlayChain:\n",
      "    Overlay component OverlayNonDecision:\n",
      "        Add a non-decision by shifting the histogram\n",
      "        Fitted parameters:\n",
      "        - nondectime: 0.396938 (WARNING: AT BOUNDARY)\n",
      "    Overlay component OverlayPoissonMixture:\n",
      "        Poisson distribution mixture model (lapse rate)\n",
      "        Fixed parameters:\n",
      "        - pmixturecoef: 0.020000\n",
      "        - rate: 1.000000\n",
      "Fit information:\n",
      "    Loss function: Negative log likelihood\n",
      "    Loss function value: 215.75782735127962\n",
      "    Fitting method: differential_evolution\n",
      "    Solver: auto\n",
      "    Other properties:\n",
      "        - nparams: 3\n",
      "        - samplesize: 179\n",
      "        - mess: ''\n",
      "\n"
     ]
    },
    {
     "data": {
      "image/png": "[encoded data removed]",
      "text/plain": [
       "<Figure size 432x288 with 2 Axes>"
      ]
     },
     "metadata": {},
     "output_type": "display_data"
    }
   ],
   "source": [
    "display_model(white_fit)\n",
    "ddm.plot.plot_fit_diagnostics(model=white_fit, sample=white_sample)"
   ]
  },
  {
   "cell_type": "code",
   "execution_count": 50,
   "metadata": {},
   "outputs": [
    {
     "name": "stdout",
     "output_type": "stream",
     "text": [
      "215.75782735127962\n"
     ]
    }
   ],
   "source": [
    "a = white_fit.get_model_parameters()\n",
    "print(white_fit.fitresult.value())\n"
   ]
  }
 ],
 "metadata": {
  "kernelspec": {
   "display_name": "Python 3",
   "language": "python",
   "name": "python3"
  },
  "language_info": {
   "codemirror_mode": {
    "name": "ipython",
    "version": 3
   },
   "file_extension": ".py",
   "mimetype": "text/x-python",
   "name": "python",
   "nbconvert_exporter": "python",
   "pygments_lexer": "ipython3",
   "version": "3.7.9"
  }
 },
 "nbformat": 4,
 "nbformat_minor": 4
}
